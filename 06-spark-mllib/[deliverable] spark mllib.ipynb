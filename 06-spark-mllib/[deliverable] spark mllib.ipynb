{
 "cells": [
  {
   "cell_type": "markdown",
   "metadata": {
    "application/vnd.databricks.v1+cell": {
     "cellMetadata": {},
     "inputWidgets": {},
     "nuid": "1373f493-6e89-4902-adc8-fc38e0ac9d26",
     "showTitle": false,
     "tableResultSettingsMap": {},
     "title": ""
    }
   },
   "source": [
    "# 06 - Predicting Electric Consumption Data with Spark ML-Lib\n",
    "\n",
    "**Author:** Adrián Romero Flores  \n",
    "**Repository:** [link](https://github.com/adrrf/bigdata/tree/main/05-spark-sql)\n",
    "\n",
    "---\n",
    "\n",
    "## Overview\n",
    "\n",
    "1. [Introduction](#introduction)  \n",
    "2. [Environment Setup](#environment)  \n",
    "3. [Data Loading](#data-loading)  \n",
    "4. [Unsupervised Learning](#unsupervised-learning)  \n",
    "5. [Supervised Learning](#supervised-learning)  \n",
    "6. [Results and Conclusions](#results-and-conclusions)"
   ]
  },
  {
   "cell_type": "code",
   "execution_count": 0,
   "metadata": {
    "application/vnd.databricks.v1+cell": {
     "cellMetadata": {
      "byteLimit": 2048000,
      "rowLimit": 10000
     },
     "inputWidgets": {},
     "nuid": "33bb6bb8-36f5-4f8d-9102-a118960727af",
     "showTitle": false,
     "tableResultSettingsMap": {},
     "title": ""
    }
   },
   "outputs": [],
   "source": [
    "from pyspark.sql.types import StructType, StructField, StringType, DoubleType\n",
    "# define the struct of types\n",
    "schema = StructType([\n",
    "    StructField(\"IDENTIFICADOR\", StringType(), True),\n",
    "    StructField(\"ANOMES\", StringType(), True),\n",
    "    StructField(\"CNAE\", StringType(), True),\n",
    "    StructField(\"PRODUCTO\", StringType(), True),\n",
    "    StructField(\"MERCADO\", StringType(), True),\n",
    "    StructField(\"ACTIVA_H1\", DoubleType(), True),\n",
    "    StructField(\"ACTIVA_H2\", DoubleType(), True),\n",
    "    StructField(\"ACTIVA_H3\", DoubleType(), True),\n",
    "    StructField(\"ACTIVA_H4\", DoubleType(), True),\n",
    "    StructField(\"ACTIVA_H5\", DoubleType(), True),\n",
    "    StructField(\"ACTIVA_H6\", DoubleType(), True),\n",
    "    StructField(\"ACTIVA_H7\", DoubleType(), True),\n",
    "    StructField(\"ACTIVA_H8\", DoubleType(), True),\n",
    "    StructField(\"ACTIVA_H9\", DoubleType(), True),\n",
    "    StructField(\"ACTIVA_H10\", DoubleType(), True),\n",
    "    StructField(\"ACTIVA_H11\", DoubleType(), True),\n",
    "    StructField(\"ACTIVA_H12\", DoubleType(), True),\n",
    "    StructField(\"ACTIVA_H13\", DoubleType(), True),\n",
    "    StructField(\"ACTIVA_H14\", DoubleType(), True),\n",
    "    StructField(\"ACTIVA_H15\", DoubleType(), True),\n",
    "    StructField(\"ACTIVA_H16\", DoubleType(), True),\n",
    "    StructField(\"ACTIVA_H17\", DoubleType(), True),\n",
    "    StructField(\"ACTIVA_H18\", DoubleType(), True),\n",
    "    StructField(\"ACTIVA_H19\", DoubleType(), True),\n",
    "    StructField(\"ACTIVA_H20\", DoubleType(), True),\n",
    "    StructField(\"ACTIVA_H21\", DoubleType(), True),\n",
    "    StructField(\"ACTIVA_H22\", DoubleType(), True),\n",
    "    StructField(\"ACTIVA_H23\", DoubleType(), True),\n",
    "    StructField(\"ACTIVA_H24\", DoubleType(), True),\n",
    "    StructField(\"ACTIVA_H25\", DoubleType(), True),\n",
    "    StructField(\"REACTIVA_H1\", DoubleType(), True),\n",
    "    StructField(\"REACTIVA_H2\", DoubleType(), True),\n",
    "    StructField(\"REACTIVA_H3\", DoubleType(), True),\n",
    "    StructField(\"REACTIVA_H4\", DoubleType(), True),\n",
    "    StructField(\"REACTIVA_H5\", DoubleType(), True),\n",
    "    StructField(\"REACTIVA_H6\", DoubleType(), True),\n",
    "    StructField(\"REACTIVA_H7\", DoubleType(), True),\n",
    "    StructField(\"REACTIVA_H8\", DoubleType(), True),\n",
    "    StructField(\"REACTIVA_H9\", DoubleType(), True),\n",
    "    StructField(\"REACTIVA_H10\", DoubleType(), True),\n",
    "    StructField(\"REACTIVA_H11\", DoubleType(), True),\n",
    "    StructField(\"REACTIVA_H12\", DoubleType(), True),\n",
    "    StructField(\"REACTIVA_H13\", DoubleType(), True),\n",
    "    StructField(\"REACTIVA_H14\", DoubleType(), True),\n",
    "    StructField(\"REACTIVA_H15\", DoubleType(), True),\n",
    "    StructField(\"REACTIVA_H16\", DoubleType(), True),\n",
    "    StructField(\"REACTIVA_H17\", DoubleType(), True),\n",
    "    StructField(\"REACTIVA_H18\", DoubleType(), True),\n",
    "    StructField(\"REACTIVA_H19\", DoubleType(), True),\n",
    "    StructField(\"REACTIVA_H20\", DoubleType(), True),\n",
    "    StructField(\"REACTIVA_H21\", DoubleType(), True),\n",
    "    StructField(\"REACTIVA_H22\", DoubleType(), True),\n",
    "    StructField(\"REACTIVA_H23\", DoubleType(), True),\n",
    "    StructField(\"REACTIVA_H24\", DoubleType(), True),\n",
    "    StructField(\"REACTIVA_H25\", DoubleType(), True)\n",
    "])\n",
    "# read csv without header\n",
    "df = spark.read.csv(\"/FileStore/tables/endesaAgregada.csv\", header=False, schema=schema)"
   ]
  },
  {
   "cell_type": "code",
   "execution_count": 0,
   "metadata": {
    "application/vnd.databricks.v1+cell": {
     "cellMetadata": {
      "byteLimit": 2048000,
      "rowLimit": 10000
     },
     "inputWidgets": {},
     "nuid": "6f1853b0-775a-41b1-add3-97c1d7407ae3",
     "showTitle": false,
     "tableResultSettingsMap": {},
     "title": ""
    }
   },
   "outputs": [
    {
     "output_type": "stream",
     "name": "stdout",
     "output_type": "stream",
     "text": [
      "columns after removal: 30 columns\n"
     ]
    }
   ],
   "source": [
    "# let's remove the ACTIVA_H25 column\n",
    "df = df.drop(\"ACTIVA_H25\")\n",
    "# let's remove all REACTIVA_HX columns\n",
    "reactiva_columns = [f\"REACTIVA_H{i}\" for i in range(1, 25)]\n",
    "\n",
    "df = df.drop(*reactiva_columns)\n",
    "print(f\"columns after removal: {len(df.columns)} columns\")"
   ]
  },
  {
   "cell_type": "code",
   "execution_count": 0,
   "metadata": {
    "application/vnd.databricks.v1+cell": {
     "cellMetadata": {
      "byteLimit": 2048000,
      "rowLimit": 10000
     },
     "inputWidgets": {},
     "nuid": "90579ab6-2d15-4cf2-b057-2b6afce41709",
     "showTitle": false,
     "tableResultSettingsMap": {},
     "title": ""
    }
   },
   "outputs": [
    {
     "output_type": "stream",
     "name": "stdout",
     "output_type": "stream",
     "text": [
      "number of rows with negative values: 4\n"
     ]
    }
   ],
   "source": [
    "activa_columns = [f\"ACTIVA_H{i}\" for i in range(1, 25)]\n",
    "df_negatives = df.filter(\n",
    "    \" OR \".join([f\"{columna} < 0\" for columna in activa_columns])\n",
    ")\n",
    "print(f\"number of rows with negative values: {df_negatives.count()}\")\n",
    "df = df.subtract(df_negatives)"
   ]
  },
  {
   "cell_type": "code",
   "execution_count": 0,
   "metadata": {
    "application/vnd.databricks.v1+cell": {
     "cellMetadata": {
      "byteLimit": 2048000,
      "rowLimit": 10000
     },
     "inputWidgets": {},
     "nuid": "5a60cf3d-12df-4601-b5ea-ab1f54e899b6",
     "showTitle": false,
     "tableResultSettingsMap": {},
     "title": ""
    }
   },
   "outputs": [],
   "source": [
    "from pyspark.ml.feature import StringIndexer, VectorAssembler\n",
    "\n",
    "indexers = [\n",
    "    StringIndexer(inputCol=\"CNAE\", outputCol=\"CNAE_index\"),\n",
    "    StringIndexer(inputCol=\"MERCADO\", outputCol=\"MERCADO_index\")\n",
    "]\n",
    "\n",
    "features = [f\"ACTIVA_H{i}\" for i in range(1, 25)] + [\"CNAE_index\", \"MERCADO_index\"]\n",
    "assembler = VectorAssembler(inputCols=features, outputCol=\"features\")"
   ]
  },
  {
   "cell_type": "code",
   "execution_count": 0,
   "metadata": {
    "application/vnd.databricks.v1+cell": {
     "cellMetadata": {
      "byteLimit": 2048000,
      "rowLimit": 10000
     },
     "inputWidgets": {},
     "nuid": "6c75f03d-0a16-47fb-af33-89a4ffbfe69f",
     "showTitle": false,
     "tableResultSettingsMap": {},
     "title": ""
    }
   },
   "outputs": [
    {
     "output_type": "stream",
     "name": "stdout",
     "output_type": "stream",
     "text": [
      "try k =  2\ntry k =  3\ntry k =  4\ntry k =  5\ntry k =  6\ntry k =  7\ntry k =  8\ntry k =  9\ntry k =  10\n"
     ]
    }
   ],
   "source": [
    "from pyspark.ml.clustering import KMeans\n",
    "from pyspark.ml import Pipeline\n",
    "\n",
    "costs = []\n",
    "for k in range(2, 11):\n",
    "    print(\"try k = \", k)\n",
    "    kmeans = KMeans(featuresCol=\"features\", k=k)\n",
    "    pipeline = Pipeline(stages=indexers + [assembler, kmeans])\n",
    "    model = pipeline.fit(df)\n",
    "    wssse = model.stages[-1].summary.trainingCost\n",
    "    costs.append((k, wssse))"
   ]
  },
  {
   "cell_type": "code",
   "execution_count": 0,
   "metadata": {
    "application/vnd.databricks.v1+cell": {
     "cellMetadata": {
      "byteLimit": 2048000,
      "rowLimit": 10000
     },
     "inputWidgets": {},
     "nuid": "2692795b-1e7f-45ad-bc06-8553632e66aa",
     "showTitle": false,
     "tableResultSettingsMap": {},
     "title": ""
    }
   },
   "outputs": [
    {
     "output_type": "display_data",
     "data": {
      "image/png": "[encoded data removed]"
     },
     "metadata": {
      "application/vnd.databricks.v1+output": {
       "addedWidgets": {},
       "arguments": {},
       "data": "data:image/png;base64,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\n",
       "datasetInfos": [],
       "metadata": {},
       "removedWidgets": [],
       "type": "image"
      }
     },
     "output_type": "display_data"
    }
   ],
   "source": [
    "import matplotlib.pyplot as plt\n",
    "\n",
    "ks, wssses = zip(*costs)\n",
    "\n",
    "plt.figure(figsize=(8, 5))\n",
    "plt.plot(ks, wssses, marker='o')\n",
    "plt.title(\"Método del Codo\")\n",
    "plt.xlabel(\"K\")\n",
    "plt.ylabel(\"WSSSE\")\n",
    "plt.grid(True)\n",
    "plt.xticks(ks)\n",
    "plt.tight_layout()\n",
    "plt.show()"
   ]
  },
  {
   "cell_type": "code",
   "execution_count": 0,
   "metadata": {
    "application/vnd.databricks.v1+cell": {
     "cellMetadata": {
      "byteLimit": 2048000,
      "rowLimit": 10000
     },
     "inputWidgets": {},
     "nuid": "0dd3db0b-f3a9-4972-a4b1-c11aae3be159",
     "showTitle": false,
     "tableResultSettingsMap": {},
     "title": ""
    }
   },
   "outputs": [],
   "source": [
    "kmeans = KMeans(featuresCol=\"features\", k=3)\n",
    "pipeline = Pipeline(stages=indexers + [assembler, kmeans])\n",
    "model = pipeline.fit(df)\n",
    "kmeans_model = model.stages[-1]"
   ]
  },
  {
   "cell_type": "code",
   "execution_count": 0,
   "metadata": {
    "application/vnd.databricks.v1+cell": {
     "cellMetadata": {
      "byteLimit": 2048000,
      "rowLimit": 10000
     },
     "inputWidgets": {},
     "nuid": "bc276a6a-dfc6-4857-95b8-46ba68239360",
     "showTitle": false,
     "tableResultSettingsMap": {},
     "title": ""
    }
   },
   "outputs": [],
   "source": [
    "df_clustered = model.transform(df)"
   ]
  },
  {
   "cell_type": "code",
   "execution_count": 0,
   "metadata": {
    "application/vnd.databricks.v1+cell": {
     "cellMetadata": {
      "byteLimit": 2048000,
      "rowLimit": 10000
     },
     "inputWidgets": {},
     "nuid": "d97f3a59-3e5c-4f6f-b617-01b988943cb0",
     "showTitle": false,
     "tableResultSettingsMap": {},
     "title": ""
    }
   },
   "outputs": [
    {
     "output_type": "display_data",
     "data": {
      "application/vnd.databricks.v1+bamboolib_hint": "{\"pd.DataFrames\": [], \"version\": \"0.0.1\"}",
      "text/plain": []
     },
     "metadata": {},
     "output_type": "display_data"
    },
    {
     "output_type": "display_data",
     "data": {
      "text/html": [
       "<div>\n",
       "<style scoped>\n",
       "    .dataframe tbody tr th:only-of-type {\n",
       "        vertical-align: middle;\n",
       "    }\n",
       "\n",
       "    .dataframe tbody tr th {\n",
       "        vertical-align: top;\n",
       "    }\n",
       "\n",
       "    .dataframe thead th {\n",
       "        text-align: right;\n",
       "    }\n",
       "</style>\n",
       "<table border=\"1\" class=\"dataframe\">\n",
       "  <thead>\n",
       "    <tr style=\"text-align: right;\">\n",
       "      <th></th>\n",
       "      <th>ACTIVA_H1</th>\n",
       "      <th>ACTIVA_H2</th>\n",
       "      <th>ACTIVA_H3</th>\n",
       "      <th>ACTIVA_H4</th>\n",
       "      <th>ACTIVA_H5</th>\n",
       "      <th>ACTIVA_H6</th>\n",
       "      <th>ACTIVA_H7</th>\n",
       "      <th>ACTIVA_H8</th>\n",
       "      <th>ACTIVA_H9</th>\n",
       "      <th>ACTIVA_H10</th>\n",
       "      <th>...</th>\n",
       "      <th>ACTIVA_H17</th>\n",
       "      <th>ACTIVA_H18</th>\n",
       "      <th>ACTIVA_H19</th>\n",
       "      <th>ACTIVA_H20</th>\n",
       "      <th>ACTIVA_H21</th>\n",
       "      <th>ACTIVA_H22</th>\n",
       "      <th>ACTIVA_H23</th>\n",
       "      <th>ACTIVA_H24</th>\n",
       "      <th>CNAE_index</th>\n",
       "      <th>MERCADO_index</th>\n",
       "    </tr>\n",
       "    <tr>\n",
       "      <th>Cluster</th>\n",
       "      <th></th>\n",
       "      <th></th>\n",
       "      <th></th>\n",
       "      <th></th>\n",
       "      <th></th>\n",
       "      <th></th>\n",
       "      <th></th>\n",
       "      <th></th>\n",
       "      <th></th>\n",
       "      <th></th>\n",
       "      <th></th>\n",
       "      <th></th>\n",
       "      <th></th>\n",
       "      <th></th>\n",
       "      <th></th>\n",
       "      <th></th>\n",
       "      <th></th>\n",
       "      <th></th>\n",
       "      <th></th>\n",
       "      <th></th>\n",
       "      <th></th>\n",
       "    </tr>\n",
       "  </thead>\n",
       "  <tbody>\n",
       "    <tr>\n",
       "      <th>0</th>\n",
       "      <td>166.981780</td>\n",
       "      <td>130.350278</td>\n",
       "      <td>112.267700</td>\n",
       "      <td>103.801835</td>\n",
       "      <td>100.187643</td>\n",
       "      <td>100.907454</td>\n",
       "      <td>111.443311</td>\n",
       "      <td>140.905150</td>\n",
       "      <td>160.376036</td>\n",
       "      <td>167.756293</td>\n",
       "      <td>...</td>\n",
       "      <td>196.396317</td>\n",
       "      <td>196.879076</td>\n",
       "      <td>207.463244</td>\n",
       "      <td>223.814557</td>\n",
       "      <td>255.991685</td>\n",
       "      <td>289.525240</td>\n",
       "      <td>268.761722</td>\n",
       "      <td>219.736167</td>\n",
       "      <td>0.148214</td>\n",
       "      <td>0.412913</td>\n",
       "    </tr>\n",
       "    <tr>\n",
       "      <th>1</th>\n",
       "      <td>5157.807685</td>\n",
       "      <td>4831.957527</td>\n",
       "      <td>4642.150040</td>\n",
       "      <td>4505.185697</td>\n",
       "      <td>4443.671968</td>\n",
       "      <td>4445.333465</td>\n",
       "      <td>4423.716812</td>\n",
       "      <td>3906.462861</td>\n",
       "      <td>3526.905373</td>\n",
       "      <td>3727.496543</td>\n",
       "      <td>...</td>\n",
       "      <td>3577.209502</td>\n",
       "      <td>3649.635421</td>\n",
       "      <td>4150.790597</td>\n",
       "      <td>4715.949921</td>\n",
       "      <td>5049.699230</td>\n",
       "      <td>5538.475603</td>\n",
       "      <td>5819.777262</td>\n",
       "      <td>5565.639964</td>\n",
       "      <td>0.836428</td>\n",
       "      <td>0.745950</td>\n",
       "    </tr>\n",
       "    <tr>\n",
       "      <th>2</th>\n",
       "      <td>848.239871</td>\n",
       "      <td>702.614470</td>\n",
       "      <td>622.487083</td>\n",
       "      <td>581.998327</td>\n",
       "      <td>566.463654</td>\n",
       "      <td>577.885181</td>\n",
       "      <td>612.756669</td>\n",
       "      <td>719.496877</td>\n",
       "      <td>887.326039</td>\n",
       "      <td>1090.359389</td>\n",
       "      <td>...</td>\n",
       "      <td>1124.267048</td>\n",
       "      <td>1248.730034</td>\n",
       "      <td>1333.167379</td>\n",
       "      <td>1384.195079</td>\n",
       "      <td>1329.434517</td>\n",
       "      <td>1285.664274</td>\n",
       "      <td>1211.423103</td>\n",
       "      <td>1045.233452</td>\n",
       "      <td>0.402948</td>\n",
       "      <td>0.527923</td>\n",
       "    </tr>\n",
       "  </tbody>\n",
       "</table>\n",
       "<p>3 rows × 26 columns</p>\n",
       "</div>"
      ]
     },
     "metadata": {
      "application/vnd.databricks.v1+output": {
       "addedWidgets": {},
       "arguments": {},
       "data": "<div>\n<style scoped>\n    .dataframe tbody tr th:only-of-type {\n        vertical-align: middle;\n    }\n\n    .dataframe tbody tr th {\n        vertical-align: top;\n    }\n\n    .dataframe thead th {\n        text-align: right;\n    }\n</style>\n<table border=\"1\" class=\"dataframe\">\n  <thead>\n    <tr style=\"text-align: right;\">\n      <th></th>\n      <th>ACTIVA_H1</th>\n      <th>ACTIVA_H2</th>\n      <th>ACTIVA_H3</th>\n      <th>ACTIVA_H4</th>\n      <th>ACTIVA_H5</th>\n      <th>ACTIVA_H6</th>\n      <th>ACTIVA_H7</th>\n      <th>ACTIVA_H8</th>\n      <th>ACTIVA_H9</th>\n      <th>ACTIVA_H10</th>\n      <th>...</th>\n      <th>ACTIVA_H17</th>\n      <th>ACTIVA_H18</th>\n      <th>ACTIVA_H19</th>\n      <th>ACTIVA_H20</th>\n      <th>ACTIVA_H21</th>\n      <th>ACTIVA_H22</th>\n      <th>ACTIVA_H23</th>\n      <th>ACTIVA_H24</th>\n      <th>CNAE_index</th>\n      <th>MERCADO_index</th>\n    </tr>\n    <tr>\n      <th>Cluster</th>\n      <th></th>\n      <th></th>\n      <th></th>\n      <th></th>\n      <th></th>\n      <th></th>\n      <th></th>\n      <th></th>\n      <th></th>\n      <th></th>\n      <th></th>\n      <th></th>\n      <th></th>\n      <th></th>\n      <th></th>\n      <th></th>\n      <th></th>\n      <th></th>\n      <th></th>\n      <th></th>\n      <th></th>\n    </tr>\n  </thead>\n  <tbody>\n    <tr>\n      <th>0</th>\n      <td>166.981780</td>\n      <td>130.350278</td>\n      <td>112.267700</td>\n      <td>103.801835</td>\n      <td>100.187643</td>\n      <td>100.907454</td>\n      <td>111.443311</td>\n      <td>140.905150</td>\n      <td>160.376036</td>\n      <td>167.756293</td>\n      <td>...</td>\n      <td>196.396317</td>\n      <td>196.879076</td>\n      <td>207.463244</td>\n      <td>223.814557</td>\n      <td>255.991685</td>\n      <td>289.525240</td>\n      <td>268.761722</td>\n      <td>219.736167</td>\n      <td>0.148214</td>\n      <td>0.412913</td>\n    </tr>\n    <tr>\n      <th>1</th>\n      <td>5157.807685</td>\n      <td>4831.957527</td>\n      <td>4642.150040</td>\n      <td>4505.185697</td>\n      <td>4443.671968</td>\n      <td>4445.333465</td>\n      <td>4423.716812</td>\n      <td>3906.462861</td>\n      <td>3526.905373</td>\n      <td>3727.496543</td>\n      <td>...</td>\n      <td>3577.209502</td>\n      <td>3649.635421</td>\n      <td>4150.790597</td>\n      <td>4715.949921</td>\n      <td>5049.699230</td>\n      <td>5538.475603</td>\n      <td>5819.777262</td>\n      <td>5565.639964</td>\n      <td>0.836428</td>\n      <td>0.745950</td>\n    </tr>\n    <tr>\n      <th>2</th>\n      <td>848.239871</td>\n      <td>702.614470</td>\n      <td>622.487083</td>\n      <td>581.998327</td>\n      <td>566.463654</td>\n      <td>577.885181</td>\n      <td>612.756669</td>\n      <td>719.496877</td>\n      <td>887.326039</td>\n      <td>1090.359389</td>\n      <td>...</td>\n      <td>1124.267048</td>\n      <td>1248.730034</td>\n      <td>1333.167379</td>\n      <td>1384.195079</td>\n      <td>1329.434517</td>\n      <td>1285.664274</td>\n      <td>1211.423103</td>\n      <td>1045.233452</td>\n      <td>0.402948</td>\n      <td>0.527923</td>\n    </tr>\n  </tbody>\n</table>\n<p>3 rows × 26 columns</p>\n</div>",
       "datasetInfos": [],
       "metadata": {},
       "removedWidgets": [],
       "textData": null,
       "type": "htmlSandbox"
      }
     },
     "output_type": "display_data"
    }
   ],
   "source": [
    "import pandas as pd\n",
    "import numpy as np\n",
    "\n",
    "centers = kmeans_model.clusterCenters()\n",
    "columns = assembler.getInputCols()\n",
    "centroids_df = pd.DataFrame(centers, columns=columns)\n",
    "centroids_df.index.name = 'Cluster'\n",
    "centroids_df"
   ]
  },
  {
   "cell_type": "code",
   "execution_count": 0,
   "metadata": {
    "application/vnd.databricks.v1+cell": {
     "cellMetadata": {
      "byteLimit": 2048000,
      "rowLimit": 10000
     },
     "inputWidgets": {},
     "nuid": "9b9378ab-0c01-4941-a6fe-b9f4419e972e",
     "showTitle": false,
     "tableResultSettingsMap": {},
     "title": ""
    }
   },
   "outputs": [],
   "source": [
    "indexer = StringIndexer(inputCol=\"CNAE\", outputCol=\"label\")\n",
    "\n",
    "features = [f\"ACTIVA_H{i}\" for i in range(1, 25)]\n",
    "\n",
    "assembler = VectorAssembler(inputCols=features, outputCol=\"features\")\n",
    "\n",
    "pipeline_prep = Pipeline(stages=[indexer, assembler])\n",
    "\n",
    "df_prepared = pipeline_prep.fit(df).transform(df)"
   ]
  },
  {
   "cell_type": "code",
   "execution_count": 0,
   "metadata": {
    "application/vnd.databricks.v1+cell": {
     "cellMetadata": {
      "byteLimit": 2048000,
      "rowLimit": 10000
     },
     "inputWidgets": {},
     "nuid": "2785b4d7-84e8-42bc-97e6-04da0dae59f7",
     "showTitle": false,
     "tableResultSettingsMap": {},
     "title": ""
    }
   },
   "outputs": [],
   "source": [
    "train, test = df_prepared.randomSplit([0.8, 0.2], seed=33)"
   ]
  },
  {
   "cell_type": "code",
   "execution_count": 0,
   "metadata": {
    "application/vnd.databricks.v1+cell": {
     "cellMetadata": {
      "byteLimit": 2048000,
      "rowLimit": 10000
     },
     "inputWidgets": {},
     "nuid": "9b0d1376-f390-4720-94fe-1c6e29fce36c",
     "showTitle": false,
     "tableResultSettingsMap": {},
     "title": ""
    }
   },
   "outputs": [
    {
     "output_type": "stream",
     "name": "stdout",
     "output_type": "stream",
     "text": [
      "RandomForest: F1 score = 0.8090\nGBT: F1 score = 0.8542\nDecisionTree: F1 score = 0.8361\nLogisticRegression: F1 score = 0.8056\n"
     ]
    }
   ],
   "source": [
    "from pyspark.ml.classification import (\n",
    "    RandomForestClassifier,\n",
    "    GBTClassifier,\n",
    "    LogisticRegression,\n",
    "    DecisionTreeClassifier\n",
    ")\n",
    "from pyspark.ml.evaluation import MulticlassClassificationEvaluator\n",
    "\n",
    "evaluator = MulticlassClassificationEvaluator(\n",
    "    labelCol=\"label\", predictionCol=\"prediction\", metricName=\"f1\")\n",
    "\n",
    "models = {\n",
    "    \"RandomForest\": RandomForestClassifier(labelCol=\"label\", featuresCol=\"features\", numTrees=50),\n",
    "    \"GBT\": GBTClassifier(labelCol=\"label\", featuresCol=\"features\", maxIter=50),\n",
    "    \"DecisionTree\": DecisionTreeClassifier(labelCol=\"label\", featuresCol=\"features\"),\n",
    "    \"LogisticRegression\": LogisticRegression(labelCol=\"label\", featuresCol=\"features\", maxIter=100)\n",
    "}\n",
    "\n",
    "results = {}\n",
    "\n",
    "for name, classifier in models.items():\n",
    "    model = classifier.fit(train)\n",
    "    predictions = model.transform(test)\n",
    "    f1 = evaluator.evaluate(predictions)\n",
    "    results[name] = f1\n",
    "    print(f\"{name}: F1 score = {f1:.4f}\")\n"
   ]
  },
  {
   "cell_type": "code",
   "execution_count": 0,
   "metadata": {
    "application/vnd.databricks.v1+cell": {
     "cellMetadata": {
      "byteLimit": 2048000,
      "rowLimit": 10000
     },
     "inputWidgets": {},
     "nuid": "49368d58-8161-4283-aac0-b166c44459f7",
     "showTitle": false,
     "tableResultSettingsMap": {},
     "title": ""
    }
   },
   "outputs": [
    {
     "output_type": "stream",
     "name": "stdout",
     "output_type": "stream",
     "text": [
      "ACTIVA_H12: 0.1230\nACTIVA_H23: 0.1042\nACTIVA_H13: 0.1006\nACTIVA_H24: 0.0947\nACTIVA_H16: 0.0800\nACTIVA_H22: 0.0672\nACTIVA_H5: 0.0542\nACTIVA_H6: 0.0530\nACTIVA_H7: 0.0527\nACTIVA_H19: 0.0365\nACTIVA_H8: 0.0345\nACTIVA_H2: 0.0258\nACTIVA_H20: 0.0244\nACTIVA_H11: 0.0230\nACTIVA_H15: 0.0222\nACTIVA_H4: 0.0165\nACTIVA_H10: 0.0146\nACTIVA_H9: 0.0144\nACTIVA_H21: 0.0128\nACTIVA_H17: 0.0125\nACTIVA_H1: 0.0124\nACTIVA_H3: 0.0094\nACTIVA_H18: 0.0072\nACTIVA_H14: 0.0043\n"
     ]
    }
   ],
   "source": [
    "gbt = GBTClassifier(labelCol=\"label\", featuresCol=\"features\", maxIter=50)\n",
    "model = gbt.fit(train)\n",
    "\n",
    "importances = model.featureImportances.toArray()\n",
    "feature_names = assembler.getInputCols()\n",
    "\n",
    "feature_importance = list(zip(feature_names, importances))\n",
    "\n",
    "for name, score in sorted(feature_importance, key=lambda x: x[1], reverse=True):\n",
    "    print(f\"{name}: {score:.4f}\")"
   ]
  },
  {
   "cell_type": "code",
   "execution_count": 0,
   "metadata": {
    "application/vnd.databricks.v1+cell": {
     "cellMetadata": {},
     "inputWidgets": {},
     "nuid": "6333dc64-6144-4f79-935a-5d2b511ddbee",
     "showTitle": false,
     "tableResultSettingsMap": {},
     "title": ""
    }
   },
   "outputs": [],
   "source": []
  }
 ],
 "metadata": {
  "application/vnd.databricks.v1+notebook": {
   "computePreferences": null,
   "dashboards": [],
   "environmentMetadata": {
    "base_environment": "",
    "environment_version": "1"
   },
   "inputWidgetPreferences": null,
   "language": "python",
   "notebookMetadata": {
    "pythonIndentUnit": 4
   },
   "notebookName": "[deliverable] spark mllib",
   "widgets": {}
  }
 },
 "nbformat": 4,
 "nbformat_minor": 0
}